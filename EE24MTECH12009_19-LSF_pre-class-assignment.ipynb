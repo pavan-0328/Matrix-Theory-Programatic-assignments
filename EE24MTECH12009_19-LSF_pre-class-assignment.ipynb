{
 "cells": [
  {
   "cell_type": "markdown",
   "metadata": {},
   "source": []
  },
  {
   "cell_type": "markdown",
   "metadata": {},
   "source": [
    "# 19 Pre-Class Assignment: Least Squares Fit (Regression)"
   ]
  },
  {
   "cell_type": "markdown",
   "metadata": {},
   "source": [
    "### Readings for this topic (Recommended in bold)\n",
    " * [Heffron Chapter 3 pg 287-292](http://joshua.smcvt.edu/linearalgebra/book.pdf)\n",
    " * [**_Boyd Chapter 13 pg 225-239_**](http://vmls-book.stanford.edu/vmls.pdf)\n"
   ]
  },
  {
   "cell_type": "markdown",
   "metadata": {},
   "source": [
    "\n",
    "### Goals for today's pre-class assignment \n",
    "\n",
    "1. [Least Squares Fit](#Least_Squares_Fit)\n",
    "1. [Linear Regression](#Linear_Regression)\n",
    "1. [One-to-one and Inverse transform](#One-to-one_and_Inverse_transform)\n",
    "1. [Inverse of a Matrix](#Inverse_of_a_Matrix)\n",
    "1. [Assignment Wrap-up](#Assignment_Wrap-up)"
   ]
  },
  {
   "cell_type": "markdown",
   "metadata": {},
   "source": [
    "----\n",
    "<a name=\"Least_Squares_Fit\"></a>\n",
    "## 1. Least Squares Fit\n",
    "\n",
    "**Review Chapters Chapter 13 pg 225-239 of the Boyd textbook.**\n",
    "\n",
    "In this first part of this course, we try to solve the system of linear equations $Ax=b$ with an $m\\times n$ matrix $A$ and a column vector $b$. \n",
    "\n",
    "There are three possible outcomes: an unique solution, no solution, and infinite many solutions. \n",
    "(Review the material on this part if you are no familiar with when the three types of outcomes happen.)\n",
    "\n",
    "When $m<n$, we call the matrix $A$ underdeterminated, because we can not have an unique solution for it. \n",
    "When $m>n$, we call the matrix $A$ overdeterminated, becasue we may not have a solution with high probability. \n",
    "\n",
    "However, if we still need to find a best $x$, even when there is no solution or infinite many solutions we use a technique called least squares fit (LSF). Least squares fit find $x$ such that $\\|Ax-b\\|$ is the smallest (i.e. we try to minimize the estimation error)."
   ]
  },
  {
   "cell_type": "markdown",
   "metadata": {},
   "source": [
    "+ When there is no solution, we want to find $x$ such that $Ax-b$ is small (here, we want $\\|Ax-b\\|$ to be small). \n",
    "+ If the null space of $A$ is just $\\{0\\}$, we can find an unique $x$ to obtain the smallest $\\|Ax-b\\|$.\n",
    "    + If there is a unique solution $x^*$ for $Ax=b$, then $x^*$ is the optimal $x$ to obtain the smallest $\\|Ax-b\\|$, which is 0.\n",
    "    + Because the null space of $A$ is just $\\{0\\}$, you can not have infinite many solutions for $Ax=b$.\n",
    "+ If the null space of $A$ is not just $\\{0\\}$, we know that we can always add a nonzero point $x_0$ in the null space of $A$ to a best $x^*$, and $\\|A(x^*+x_0)-b\\|=\\|Ax^*-b\\|$. Therefore, when we have multiple best solutions, we choose to find the $x$ in the rowspace of $A$, and this is unique. "
   ]
  },
  {
   "cell_type": "markdown",
   "metadata": {},
   "source": [
    "**<font color=red>QUESTION 1:</font>** Let $$A=\\begin{bmatrix}1\\\\2\\end{bmatrix},\\quad b=\\begin{bmatrix}1.5 \\\\ 2\\end{bmatrix}$$\n",
    "Find the best $x$ such that $\\|Ax-b\\|$ has the smallest value."
   ]
  },
  {
   "cell_type": "markdown",
   "metadata": {},
   "source": [
    "$ x = [1, 1] $"
   ]
  },
  {
   "cell_type": "markdown",
   "metadata": {},
   "source": [
    "**<font color=red>QUESTION 2:</font>** Compute $(A^\\top A)^{-1}A^\\top b$."
   ]
  },
  {
   "cell_type": "markdown",
   "metadata": {},
   "source": [
    "1.5"
   ]
  },
  {
   "cell_type": "markdown",
   "metadata": {},
   "source": [
    "----\n",
    "<a name=\"Linear_Regression\"></a>\n",
    "## 2. Linear Regression\n",
    "\n",
    "Watch the video for using Least Squares to do linear regression."
   ]
  },
  {
   "cell_type": "code",
   "execution_count": 1,
   "metadata": {},
   "outputs": [
    {
     "data": {
      "image/jpeg": "[encoded data removed]",
      "text/html": [
       "\n",
       "        <iframe\n",
       "            width=\"640\"\n",
       "            height=\"360\"\n",
       "            src=\"https://www.youtube.com/embed/Lx6CfgKVIuE?cc_load_policy=True\"\n",
       "            frameborder=\"0\"\n",
       "            allowfullscreen\n",
       "            \n",
       "        ></iframe>\n",
       "        "
      ],
      "text/plain": [
       "<IPython.lib.display.YouTubeVideo at 0x7e5956344a30>"
      ]
     },
     "execution_count": 1,
     "metadata": {},
     "output_type": "execute_result"
    }
   ],
   "source": [
    "from IPython.display import YouTubeVideo\n",
    "YouTubeVideo(\"Lx6CfgKVIuE\",width=640,height=360, cc_load_policy=True)"
   ]
  },
  {
   "cell_type": "markdown",
   "metadata": {},
   "source": [
    "**<font color=red>QUESTION 3:</font>** How to tell it is a good fit or a bad one?"
   ]
  },
  {
   "cell_type": "markdown",
   "metadata": {},
   "source": [
    "Put your answer to the above question here."
   ]
  },
  {
   "cell_type": "markdown",
   "metadata": {},
   "source": [
    "----\n",
    "<a name=\"One-to-one_and_Inverse_transform\"></a>\n",
    "## 3. One-to-one and Inverse transform\n",
    "\n",
    "Read Section 4.9 of the textbook if you are not familiar with this part. \n",
    "\n",
    "**Definition:** A transformation $T:U\\mapsto V$ is said to be *one-to-one* if each element in the range is the image of just one element in the domain. That is, for two elements ($x$ and $y$) in $U$. $T(x)=T(y)$ happens only when $x=y$.\n",
    "\n",
    "**Theorem:** Let $T:U\\mapsto V$ be a one-to-one linear transformation. If $\\{u_1,\\dots,u_n\\}$ is linearly independent in $U$, then $\\{T(u_1),\\dots,T(u_n)\\}$ is linearly independent in $V$. \n",
    "\n",
    "**Definition:** A linear transformation $T:U\\mapsto V$ is said to be *invertible* if there exists a transformation $S:V\\mapsto U$, such that \n",
    "$$S(T(u))=u,\\qquad T(S(v))=v,$$\n",
    "for any $v$ in $V$ and any $u$ in $U$."
   ]
  },
  {
   "cell_type": "markdown",
   "metadata": {},
   "source": [
    "**<font color=red>QUESTION 4:</font>** If linear transformation $T:U\\mapsto V$ is invertible, and the dimension of $U$ is 2, what is the dimension of $V$? Why?"
   ]
  },
  {
   "cell_type": "markdown",
   "metadata": {},
   "source": [
    "Put your answer to the above question here."
   ]
  },
  {
   "cell_type": "markdown",
   "metadata": {},
   "source": [
    "----\n",
    "<a name=\"Inverse_of_a_Matrix\"></a>\n",
    "## 4. Inverse of a Matrix\n",
    "\n",
    "+ Recall the four fundamental subspaces of a $m\\times n$ matrix $A$\n",
    "    + The rowspace and nullspace of $A$ in $R^n$\n",
    "    + The columnspace and the nullspace of $A^\\top$ in $R^m$"
   ]
  },
  {
   "cell_type": "markdown",
   "metadata": {},
   "source": [
    "+ The two-sided inverse gives us the following\n",
    "$$ {A}{A}^{-1}=I={A}^{-1}{A} $$\n",
    "    + For this we need $r = m = n$, here $r$ is the rank of the matrix."
   ]
  },
  {
   "cell_type": "markdown",
   "metadata": {},
   "source": [
    "+ For a left-inverse, we have the following\n",
    "    + Full column rank, with $r = n \\leq m$ (but possibly more rows)\n",
    "    + The nullspace contains just the zero vector (columns are independent)\n",
    "    + The rows might not all be independent\n",
    "    + We thus have either no or only a single solution to $Ax=b$.\n",
    "    + $A^\\top $ will now also have full row rank\n",
    "    + From $(A^\\top A)^{-1}A^\\top A = I$ follows the fact that $(A^\\top A)^{-1}A^\\top$ is a left-sided inverse\n",
    "    + Note that $(A^\\top A)^{-1}A^\\top$ is a $n\\times m$ matrix and $A$ is of size $m\\times n$, theire mulitiplication $(A^\\top A)^{-1}A^\\top A$ results in a $n\\times n$ identity matrix\n",
    "    + The $A(A^\\top A)^{-1}A^\\top$ is a $m\\times m$ matrix. BUT $A(A^\\top A)^{-1}A^\\top\\neq I$ if $m\\neq n$. The matrix $A(A^\\top A)^{-1}A^\\top$ is the projection matrix onto the column space of $A$. "
   ]
  },
  {
   "cell_type": "markdown",
   "metadata": {},
   "source": [
    "**<font color=red>QUESTION 5:</font>** What is the projection matrix that projects any vector onto the subspace spanned by $[1,2]^\\top$. (What matrix will give the same result as projecting any point onto the vector $[1,2]^\\top$.)"
   ]
  },
  {
   "cell_type": "markdown",
   "metadata": {},
   "source": [
    "Put your answer to the above question here."
   ]
  },
  {
   "cell_type": "markdown",
   "metadata": {},
   "source": [
    "**<font color=red>QUESTION 6:</font>** If $m=n$, is the left inverse the same as the inverse?"
   ]
  },
  {
   "cell_type": "markdown",
   "metadata": {},
   "source": [
    "Put your answer to the above question here."
   ]
  },
  {
   "cell_type": "markdown",
   "metadata": {},
   "source": [
    "**Theorem:** For a matrix $A$ with $r=n<m$, the columnspace of $A$ has dimension $r(=n)$. The linear transfrom $A: R^n\\mapsto R^m$ is one-to-one. In addition, the linear transformation $A$ from $R^n$ to the columnspace of $A$ is one-to-one and onto (it means that for any element in the columnspace of $A$, we can find $x$ in $R^n$ such that it equals $Ax$.) \n",
    "Then the left inverse of $A$ is a one-to-one mapping from the columnspace of $A$ to $R^n$, and it can be considered as an inverse transform of $A$. "
   ]
  },
  {
   "cell_type": "markdown",
   "metadata": {},
   "source": [
    "----\n",
    "\n",
    "<a name=\"Assignment_Wrap-up\"></a>\n",
    "## 3. Assignment wrap-up"
   ]
  },
  {
   "cell_type": "markdown",
   "metadata": {},
   "source": [
    "&#9989; **<font color=red>Assignment-Specific QUESTION:</font>** There is no Assignment specific question for this notebook. You can just say \"none\"."
   ]
  },
  {
   "cell_type": "markdown",
   "metadata": {},
   "source": [
    "Put your answer to the above question here"
   ]
  },
  {
   "cell_type": "markdown",
   "metadata": {},
   "source": [
    "&#9989; **<font color=red>QUESTION:</font>**  Summarize what you did in this assignment."
   ]
  },
  {
   "cell_type": "markdown",
   "metadata": {},
   "source": [
    "Put your answer to the above question here"
   ]
  },
  {
   "cell_type": "markdown",
   "metadata": {},
   "source": [
    "&#9989; **<font color=red>QUESTION:</font>**  What questions do you have, if any, about any of the topics discussed in this assignment after working through the jupyter notebook?"
   ]
  },
  {
   "cell_type": "markdown",
   "metadata": {},
   "source": [
    "Put your answer to the above question here"
   ]
  },
  {
   "cell_type": "markdown",
   "metadata": {},
   "source": [
    "&#9989; **<font color=red>QUESTION:</font>**  How well do you feel this assignment helped you to achieve a better understanding of the above mentioned topic(s)?"
   ]
  },
  {
   "cell_type": "markdown",
   "metadata": {},
   "source": [
    "Put your answer to the above question here"
   ]
  },
  {
   "cell_type": "markdown",
   "metadata": {},
   "source": [
    "&#9989; **<font color=red>QUESTION:</font>** What was the **most** challenging part of this assignment for you? "
   ]
  },
  {
   "cell_type": "markdown",
   "metadata": {},
   "source": [
    "Put your answer to the above question here"
   ]
  },
  {
   "cell_type": "markdown",
   "metadata": {},
   "source": [
    "&#9989; **<font color=red>QUESTION:</font>** What was the **least** challenging part of this assignment for you? "
   ]
  },
  {
   "cell_type": "markdown",
   "metadata": {},
   "source": [
    "Put your answer to the above question here"
   ]
  },
  {
   "cell_type": "markdown",
   "metadata": {},
   "source": [
    "&#9989; **<font color=red>QUESTION:</font>**  What kind of additional questions or support, if any, do you feel you need to have a better understanding of the content in this assignment?"
   ]
  },
  {
   "cell_type": "markdown",
   "metadata": {},
   "source": [
    "Put your answer to the above question here"
   ]
  },
  {
   "cell_type": "markdown",
   "metadata": {},
   "source": [
    "&#9989; **<font color=red>QUESTION:</font>**  Do you have any further questions or comments about this material, or anything else that's going on in class?"
   ]
  },
  {
   "cell_type": "markdown",
   "metadata": {},
   "source": [
    "Put your answer to the above question here"
   ]
  },
  {
   "cell_type": "markdown",
   "metadata": {},
   "source": [
    "&#9989; **<font color=red>QUESTION:</font>** Approximately how long did this pre-class assignment take?"
   ]
  },
  {
   "cell_type": "markdown",
   "metadata": {},
   "source": [
    "Put your answer to the above question here"
   ]
  },
  {
   "cell_type": "markdown",
   "metadata": {},
   "source": [
    "----\n",
    "Written by Dr. Dirk Colbry, Michigan State University\n",
    "<a rel=\"license\" href=\"http://creativecommons.org/licenses/by-nc/4.0/\"><img alt=\"Creative Commons License\" style=\"border-width:0\" src=\"https://i.creativecommons.org/l/by-nc/4.0/88x31.png\" /></a><br />This work is licensed under a <a rel=\"license\" href=\"http://creativecommons.org/licenses/by-nc/4.0/\">Creative Commons Attribution-NonCommercial 4.0 International License</a>."
   ]
  },
  {
   "cell_type": "markdown",
   "metadata": {},
   "source": [
    "\n"
   ]
  }
 ],
 "metadata": {
  "anaconda-cloud": {},
  "kernelspec": {
   "display_name": "Python 3 (ipykernel)",
   "language": "python",
   "name": "python3"
  },
  "language_info": {
   "codemirror_mode": {
    "name": "ipython",
    "version": 3
   },
   "file_extension": ".py",
   "mimetype": "text/x-python",
   "name": "python",
   "nbconvert_exporter": "python",
   "pygments_lexer": "ipython3",
   "version": "3.8.20"
  }
 },
 "nbformat": 4,
 "nbformat_minor": 4
}
